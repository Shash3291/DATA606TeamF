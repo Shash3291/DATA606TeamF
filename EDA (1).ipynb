{
  "nbformat": 4,
  "nbformat_minor": 0,
  "metadata": {
    "colab": {
      "private_outputs": true,
      "provenance": []
    },
    "kernelspec": {
      "name": "python3",
      "display_name": "Python 3"
    },
    "language_info": {
      "name": "python"
    }
  },
  "cells": [
    {
      "cell_type": "markdown",
      "source": [
        "# Exploratory Data Analysis of Los Angeles Crime Data\n"
      ],
      "metadata": {
        "id": "-Ebzp3W2cn3w"
      }
    },
    {
      "cell_type": "code",
      "execution_count": null,
      "metadata": {
        "id": "IZlfYZOz3X8P"
      },
      "outputs": [],
      "source": [
        "# import pandas and upload a dataset to a dataframe\n",
        "\n",
        "import pandas as pd\n",
        "import numpy as np\n",
        "import matplotlib.pyplot as plt\n",
        "import seaborn as sns\n",
        "import plotly.express as px\n",
        "from google.colab import drive\n",
        "\n",
        "drive.mount('/content/drive')\n",
        "\n",
        "df = pd.read_csv('/content/Crime_Data_from_2020_to_Present.csv')\n"
      ]
    },
    {
      "cell_type": "code",
      "source": [
        "import folium\n",
        "from IPython.display import display"
      ],
      "metadata": {
        "id": "u1-hokNwQCD6"
      },
      "execution_count": null,
      "outputs": []
    },
    {
      "cell_type": "code",
      "source": [
        "# Display the first 5 records\n",
        "df.head()"
      ],
      "metadata": {
        "id": "nQ4dmVz-3_YZ"
      },
      "execution_count": null,
      "outputs": []
    },
    {
      "cell_type": "code",
      "source": [
        "# Display the last 5 records of the Dataframe\n",
        "df.tail()"
      ],
      "metadata": {
        "id": "9GGOOaHCdT5k"
      },
      "execution_count": null,
      "outputs": []
    },
    {
      "cell_type": "code",
      "source": [
        "# shape of the data\n",
        "df.shape"
      ],
      "metadata": {
        "id": "FWZTI2XN49am"
      },
      "execution_count": null,
      "outputs": []
    },
    {
      "cell_type": "code",
      "source": [
        "# data information\n",
        "df.info()"
      ],
      "metadata": {
        "id": "tVqaukNd5AM0"
      },
      "execution_count": null,
      "outputs": []
    },
    {
      "cell_type": "code",
      "source": [
        "# describtive statistics\n",
        "df.describe()"
      ],
      "metadata": {
        "id": "lHh713315AWM"
      },
      "execution_count": null,
      "outputs": []
    },
    {
      "cell_type": "code",
      "source": [
        "# list of columns\n",
        "df.columns.tolist()"
      ],
      "metadata": {
        "id": "iUMLZaX05AZk"
      },
      "execution_count": null,
      "outputs": []
    },
    {
      "cell_type": "code",
      "source": [
        "# check for missing values:\n",
        "df.isnull().sum()"
      ],
      "metadata": {
        "id": "V-o-V_q35AeE"
      },
      "execution_count": null,
      "outputs": []
    },
    {
      "cell_type": "code",
      "source": [
        "#checking duplicate values\n",
        "df.nunique()"
      ],
      "metadata": {
        "id": "UAzNq3_K5XYA"
      },
      "execution_count": null,
      "outputs": []
    },
    {
      "cell_type": "markdown",
      "source": [
        "# Data Cleaning"
      ],
      "metadata": {
        "id": "McDT_4lwqnZO"
      }
    },
    {
      "cell_type": "code",
      "source": [
        "# Drop columns with all null values\n",
        "df_cleaned = df.dropna(axis=1, how='all')\n",
        "df_cleaned.shape"
      ],
      "metadata": {
        "id": "phRmQVuFq-YT"
      },
      "execution_count": null,
      "outputs": []
    },
    {
      "cell_type": "code",
      "source": [
        "# Drop rows with all null values\n",
        "\n",
        "df_cleaned = df_cleaned.dropna(how='all', axis=0)\n",
        "df_cleaned.shape"
      ],
      "metadata": {
        "id": "bl4vc8bQ1f2-"
      },
      "execution_count": null,
      "outputs": []
    },
    {
      "cell_type": "code",
      "source": [
        "# Calculate the threshold\n",
        "threshold = df.shape[0] - 400000\n",
        "\n",
        "# Drop columns with more than 400,000 NaN values\n",
        "df_cleaned = df.dropna(axis=1, thresh=threshold)\n",
        "df_cleaned.shape"
      ],
      "metadata": {
        "id": "bPU_NAeNvcKM"
      },
      "execution_count": null,
      "outputs": []
    },
    {
      "cell_type": "code",
      "source": [
        "# finding differences between both columns\n",
        "\n",
        "difference = set(df.columns).symmetric_difference(set(df_cleaned.columns))\n",
        "difference"
      ],
      "metadata": {
        "id": "2vjYJGDd3zQX"
      },
      "execution_count": null,
      "outputs": []
    },
    {
      "cell_type": "code",
      "source": [
        "df_cleaned.info()"
      ],
      "metadata": {
        "id": "4jwjUfdmuybo"
      },
      "execution_count": null,
      "outputs": []
    },
    {
      "cell_type": "code",
      "source": [
        "df_cleaned\n",
        "print(df_cleaned.isnull().sum())"
      ],
      "metadata": {
        "id": "bQu7t0brsKs6"
      },
      "execution_count": null,
      "outputs": []
    },
    {
      "cell_type": "code",
      "source": [
        "df_cleaned.isnull().sum()"
      ],
      "metadata": {
        "id": "emdU7pXOruZx"
      },
      "execution_count": null,
      "outputs": []
    },
    {
      "cell_type": "markdown",
      "source": [
        "# Charts"
      ],
      "metadata": {
        "id": "rn6Wo66RqtjK"
      }
    },
    {
      "cell_type": "code",
      "source": [
        "# Assuming df_cleaned['AREA NAME'] contains location names\n",
        "# Crimes by AREA NAME\n",
        "crime_counts = df_cleaned['AREA NAME'].value_counts()\n",
        "\n",
        "# Using Matplotlib to create a count plot\n",
        "plt.figure(figsize=(16, 6))\n",
        "plt.bar(crime_counts.index, crime_counts, color='pink')\n",
        "plt.title('Crimes Count by AREA NAME')\n",
        "plt.xlabel('AREA NAME')\n",
        "plt.ylabel('Crime Count')\n",
        "\n",
        "# Rotating X-axis labels\n",
        "plt.xticks(rotation = 25)\n",
        "\n",
        "plt.show()"
      ],
      "metadata": {
        "id": "ckD8yk4I5ph6"
      },
      "execution_count": null,
      "outputs": []
    },
    {
      "cell_type": "code",
      "source": [
        "# Assuming df_cleaned['Crm Cd Desc'] contains your crime descriptions\n",
        "# Calculate the counts and keep only the top 25\n",
        "crime_counts = df_cleaned['Crm Cd Desc'].value_counts().head(25)\n",
        "\n",
        "# Plot with Matplotlib\n",
        "plt.figure(figsize=(25, 6))\n",
        "plt.bar(crime_counts.index, crime_counts, color='lightgreen')\n",
        "plt.title('Crime Counts of Top 25 Crm Cd Desc')\n",
        "plt.xlabel('Crm Cd Desc (Defines the Crime Code provided)')\n",
        "plt.ylabel('Crime Count')\n",
        "\n",
        "# Rotate the x-axis labels to 90 degrees for better readability\n",
        "plt.xticks(rotation=90)\n",
        "\n",
        "# Show the plot\n",
        "plt.show()"
      ],
      "metadata": {
        "id": "LzULU3qfKcnp"
      },
      "execution_count": null,
      "outputs": []
    },
    {
      "cell_type": "code",
      "source": [
        "# Interactive version of plot using plotly\n",
        "crime_counts = df_cleaned['Crm Cd Desc'].value_counts().head(25)\n",
        "\n",
        "# Creating an interactive bar plot with Plotly\n",
        "fig = px.bar(crime_counts, x=crime_counts.index, y=crime_counts, labels={'index': 'Crm Cd Desc', 'y': 'Count'},\n",
        "             title='Crime Counts of Top 25 Crm Cd Desc')\n",
        "fig.update_layout(xaxis_tickangle=-45)  # Slight rotation for better readability\n",
        "fig.show()"
      ],
      "metadata": {
        "id": "rzYhKWYYH1hu"
      },
      "execution_count": null,
      "outputs": []
    },
    {
      "cell_type": "code",
      "source": [
        "# Descent Code: A - Other Asian B - Black C - Chinese D - Cambodian F - Filipino G - Guamanian\n",
        "# H - Hispanic/Latin/Mexican I - American Indian/Alaskan Native J - Japanese\n",
        "# K - Korean L - Laotian O - Other P - Pacific Islander S - Samoan U - Hawaiian\n",
        "# V - Vietnamese W - White X - Unknown Z - Asian Indian\n",
        "\n",
        "# Crimes by Vict Descent\n",
        "crime_counts = df_cleaned['Vict Descent'].value_counts()\n",
        "\n",
        "# Using Matplotlib to create a count plot\n",
        "plt.figure(figsize=(16, 6))\n",
        "plt.bar(crime_counts.index, crime_counts, color='skyblue')\n",
        "plt.title('Crime Count by Vict Descent')\n",
        "plt.xlabel('Vict Descent')\n",
        "plt.ylabel('Crime Count')\n",
        "\n",
        "# Rotating X-axis labels\n",
        "plt.xticks(rotation = 25)\n",
        "\n",
        "plt.show()"
      ],
      "metadata": {
        "id": "DX2wufjg7LVa"
      },
      "execution_count": null,
      "outputs": []
    },
    {
      "cell_type": "code",
      "source": [
        "# Creating subplots of categorical columns\n",
        "sns.set_style(\"darkgrid\")\n",
        "\n",
        "# Identify categorical columns\n",
        "categorical_columns = ['AREA NAME', 'Vict Sex', 'Vict Descent', 'Status Desc']\n",
        "\n",
        "\n",
        "plt.figure(figsize=(18, len(categorical_columns) * 3))\n",
        "for idx, feature in enumerate(categorical_columns, 1):\n",
        "    plt.subplot(len(categorical_columns), 2, idx)  # Adjust the layout as needed\n",
        "\n",
        "    top_categories = df_cleaned[feature].value_counts().head(10).index\n",
        "\n",
        "    # DataFrame to display the top categories\n",
        "    filtered_data = df_cleaned[df_cleaned[feature].isin(top_categories)]\n",
        "\n",
        "    # A countplot for the selected data\n",
        "    sns.countplot(y=filtered_data[feature], order=top_categories)\n",
        "    plt.title(f\"Countplot of {feature}\")\n",
        "\n",
        "\n",
        "# Adjust layout and show plots\n",
        "plt.title('Bar Chart of Categorical Columns')\n",
        "plt.tight_layout()\n",
        "plt.show()"
      ],
      "metadata": {
        "id": "-X5YqGUWCA9z"
      },
      "execution_count": null,
      "outputs": []
    },
    {
      "cell_type": "code",
      "source": [],
      "metadata": {
        "id": "z6FAAAwQB3Ju"
      },
      "execution_count": null,
      "outputs": []
    },
    {
      "cell_type": "code",
      "source": [
        "# !pip install plotly-geo==1.0.0\n",
        "# !pip install geopandas==0.8.1\n",
        "# !pip install pyshp==2.1.2\n",
        "# !pip install shapely==1.7.1"
      ],
      "metadata": {
        "id": "75FYO9-_BKwh"
      },
      "execution_count": null,
      "outputs": []
    },
    {
      "cell_type": "code",
      "source": [
        "df_cleaned.head()"
      ],
      "metadata": {
        "id": "8puNWfHbJIfc"
      },
      "execution_count": null,
      "outputs": []
    },
    {
      "cell_type": "code",
      "source": [
        "data_s = df_cleaned[['AREA NAME','LAT','LON','DR_NO','Crm Cd Desc','Vict Sex','Status Desc','Premis Desc']]"
      ],
      "metadata": {
        "id": "H4QXgnkpBOGx"
      },
      "execution_count": null,
      "outputs": []
    },
    {
      "cell_type": "code",
      "source": [
        "data = df_cleaned[['AREA NAME','LAT','LON']]\n",
        "\n",
        "data.isnull().sum()\n",
        "data.dropna(inplace=True)"
      ],
      "metadata": {
        "id": "yMESDgg_OpO_"
      },
      "execution_count": null,
      "outputs": []
    },
    {
      "cell_type": "code",
      "source": [
        "data.isnull().sum()"
      ],
      "metadata": {
        "id": "2Fq6P6MXO0Wu"
      },
      "execution_count": null,
      "outputs": []
    },
    {
      "cell_type": "code",
      "source": [
        "data.dropna(thresh=0, inplace=True)"
      ],
      "metadata": {
        "id": "Tq_j2MgQO8L0"
      },
      "execution_count": null,
      "outputs": []
    },
    {
      "cell_type": "code",
      "source": [
        "data.columns"
      ],
      "metadata": {
        "id": "e5p4WeKpT3_U"
      },
      "execution_count": null,
      "outputs": []
    },
    {
      "cell_type": "code",
      "source": [
        "# Create a base map centered on California\n",
        "m = folium.Map(location=[36.7783, -119.4179], zoom_start=6)\n",
        "\n",
        "# Add markers to the map for each AREA NAME in California\n",
        "for i, row in data.iterrows():\n",
        "    folium.Marker(\n",
        "        location=[row['LAT'], row['LON']],\n",
        "        popup=row['AREA NAME']\n",
        "    ).add_to(m)\n",
        "\n",
        "# Display the map in Jupyter Notebook\n",
        "display(m)"
      ],
      "metadata": {
        "id": "t9XXtqYlLHz_"
      },
      "execution_count": null,
      "outputs": []
    },
    {
      "cell_type": "code",
      "source": [
        "# Using Seaborn to create a heatmap\n",
        "plt.figure(figsize=(15, 10))\n",
        "\n",
        "\n",
        "df_cleaned['DR_NO'] = pd.to_datetime(df_cleaned['DR_NO'])\n",
        "# Drop the original date column or any non-numeric columns before correlation calculation\n",
        "numeric_df = df_cleaned.select_dtypes(include=[np.number])\n",
        "\n",
        "\n",
        "sns.heatmap(numeric_df.corr(), annot=True, fmt='.2f', cmap='Pastel2', linewidths=2)\n",
        "plt.title('Correlation Heatmap')\n",
        "plt.show()"
      ],
      "metadata": {
        "id": "xYlitM3N9Qd8"
      },
      "execution_count": null,
      "outputs": []
    }
  ]
}