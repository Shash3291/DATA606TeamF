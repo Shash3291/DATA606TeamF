{
  "nbformat": 4,
  "nbformat_minor": 0,
  "metadata": {
    "colab": {
      "private_outputs": true,
      "provenance": [],
      "machine_shape": "hm",
      "gpuType": "A100"
    },
    "kernelspec": {
      "name": "python3",
      "display_name": "Python 3"
    },
    "language_info": {
      "name": "python"
    },
    "accelerator": "GPU"
  },
  "cells": [
    {
      "cell_type": "markdown",
      "source": [
        "# Exploratory Data Analysis of Los Angeles Crime Data\n"
      ],
      "metadata": {
        "id": "-Ebzp3W2cn3w"
      }
    },
    {
      "cell_type": "code",
      "source": [
        "from google.colab import drive\n",
        "drive.mount('/content/drive')"
      ],
      "metadata": {
        "id": "j_0LwztaDDAr"
      },
      "execution_count": null,
      "outputs": []
    },
    {
      "cell_type": "code",
      "execution_count": null,
      "metadata": {
        "id": "IZlfYZOz3X8P"
      },
      "outputs": [],
      "source": [
        "# import libraries and upload a dataset to a dataframe\n",
        "\n",
        "import pandas as pd\n",
        "import numpy as np\n",
        "import matplotlib.pyplot as plt\n",
        "import seaborn as sns\n",
        "import plotly.express as px"
      ]
    },
    {
      "cell_type": "code",
      "source": [
        "import requests\n",
        "import geopandas\n",
        "import plotly.express as px\n",
        "import folium\n",
        "import matplotlib.pyplot as plt\n",
        "import seaborn as sns\n",
        "import re\n",
        "import geopandas as gpd\n",
        "import pandas as pd\n",
        "import matplotlib.pyplot as plt"
      ],
      "metadata": {
        "id": "854Qo0UPBhyp"
      },
      "execution_count": null,
      "outputs": []
    },
    {
      "cell_type": "code",
      "source": [
        "from IPython.display import display"
      ],
      "metadata": {
        "id": "u1-hokNwQCD6"
      },
      "execution_count": null,
      "outputs": []
    },
    {
      "cell_type": "code",
      "source": [
        "# reading the file with the 'error_bad_lines' parameter set to False to skip problematic lines\n",
        "df = pd.read_csv('/content/Crime_Data_from_2020_to_Present.csv', on_bad_lines='skip')\n",
        "\n",
        "# Display the dataframe to verify\n",
        "print(df)"
      ],
      "metadata": {
        "id": "MS0MUScidF6g"
      },
      "execution_count": null,
      "outputs": []
    },
    {
      "cell_type": "code",
      "source": [
        "# Display the first 5 records\n",
        "df.head()"
      ],
      "metadata": {
        "id": "nQ4dmVz-3_YZ"
      },
      "execution_count": null,
      "outputs": []
    },
    {
      "cell_type": "code",
      "source": [
        "# Display the last 5 records of the Dataframe\n",
        "df.tail()"
      ],
      "metadata": {
        "id": "9GGOOaHCdT5k"
      },
      "execution_count": null,
      "outputs": []
    },
    {
      "cell_type": "code",
      "source": [
        "# shape of the data\n",
        "df.shape"
      ],
      "metadata": {
        "id": "FWZTI2XN49am"
      },
      "execution_count": null,
      "outputs": []
    },
    {
      "cell_type": "code",
      "source": [
        "# data information\n",
        "df.info()"
      ],
      "metadata": {
        "id": "tVqaukNd5AM0"
      },
      "execution_count": null,
      "outputs": []
    },
    {
      "cell_type": "code",
      "source": [
        "# describtive statistics\n",
        "df.describe()"
      ],
      "metadata": {
        "id": "lHh713315AWM"
      },
      "execution_count": null,
      "outputs": []
    },
    {
      "cell_type": "code",
      "source": [
        "# list of columns\n",
        "df.columns.tolist()"
      ],
      "metadata": {
        "id": "iUMLZaX05AZk"
      },
      "execution_count": null,
      "outputs": []
    },
    {
      "cell_type": "code",
      "source": [
        "# check for missing values:\n",
        "df.isnull().sum()"
      ],
      "metadata": {
        "id": "V-o-V_q35AeE"
      },
      "execution_count": null,
      "outputs": []
    },
    {
      "cell_type": "code",
      "source": [
        "#checking duplicate values\n",
        "df.nunique()"
      ],
      "metadata": {
        "id": "UAzNq3_K5XYA"
      },
      "execution_count": null,
      "outputs": []
    },
    {
      "cell_type": "markdown",
      "source": [
        "# Data Cleaning"
      ],
      "metadata": {
        "id": "McDT_4lwqnZO"
      }
    },
    {
      "cell_type": "code",
      "source": [
        "# Drop columns with all null values\n",
        "df_cleaned = df.dropna(axis=1, how='all')\n",
        "df_cleaned.shape"
      ],
      "metadata": {
        "id": "phRmQVuFq-YT"
      },
      "execution_count": null,
      "outputs": []
    },
    {
      "cell_type": "code",
      "source": [
        "# Drop rows with all null values\n",
        "\n",
        "df_cleaned = df_cleaned.dropna(how='all', axis=0)\n",
        "df_cleaned.shape"
      ],
      "metadata": {
        "id": "bl4vc8bQ1f2-"
      },
      "execution_count": null,
      "outputs": []
    },
    {
      "cell_type": "code",
      "source": [
        "# Calculate the threshold\n",
        "threshold = df.shape[0] - 400000\n",
        "\n",
        "# Drop columns with more than 400,000 NaN values\n",
        "df_cleaned = df.dropna(axis=1, thresh=threshold)\n",
        "df_cleaned.shape"
      ],
      "metadata": {
        "id": "bPU_NAeNvcKM"
      },
      "execution_count": null,
      "outputs": []
    },
    {
      "cell_type": "code",
      "source": [
        "# finding differences between both columns\n",
        "\n",
        "difference = set(df.columns).symmetric_difference(set(df_cleaned.columns))\n",
        "difference"
      ],
      "metadata": {
        "id": "2vjYJGDd3zQX"
      },
      "execution_count": null,
      "outputs": []
    },
    {
      "cell_type": "code",
      "source": [
        "df_cleaned.info()"
      ],
      "metadata": {
        "id": "4jwjUfdmuybo"
      },
      "execution_count": null,
      "outputs": []
    },
    {
      "cell_type": "code",
      "source": [
        "df_cleaned\n",
        "print(df_cleaned.isnull().sum())"
      ],
      "metadata": {
        "id": "bQu7t0brsKs6"
      },
      "execution_count": null,
      "outputs": []
    },
    {
      "cell_type": "code",
      "source": [
        "df_cleaned.isnull().sum()"
      ],
      "metadata": {
        "id": "emdU7pXOruZx"
      },
      "execution_count": null,
      "outputs": []
    },
    {
      "cell_type": "markdown",
      "source": [
        "# Charts"
      ],
      "metadata": {
        "id": "rn6Wo66RqtjK"
      }
    },
    {
      "cell_type": "code",
      "source": [
        "# Assuming df_cleaned['AREA NAME'] contains location names\n",
        "# Crimes by AREA NAME\n",
        "crime_counts = df_cleaned['AREA NAME'].value_counts()\n",
        "\n",
        "# Using Matplotlib to create a count plot\n",
        "plt.figure(figsize=(16, 6))\n",
        "plt.bar(crime_counts.index, crime_counts, color='pink')\n",
        "plt.title('Crimes Count by AREA NAME')\n",
        "plt.xlabel('AREA NAME')\n",
        "plt.ylabel('Crime Count')\n",
        "\n",
        "# Rotating X-axis labels\n",
        "plt.xticks(rotation = 25)\n",
        "\n",
        "plt.show()"
      ],
      "metadata": {
        "id": "ckD8yk4I5ph6"
      },
      "execution_count": null,
      "outputs": []
    },
    {
      "cell_type": "code",
      "source": [
        "# Assuming df_cleaned['Crm Cd Desc'] contains your crime descriptions\n",
        "# Calculate the counts and keep only the top 25\n",
        "crime_counts = df_cleaned['Crm Cd Desc'].value_counts().head(25)\n",
        "\n",
        "# Plot with Matplotlib\n",
        "plt.figure(figsize=(25, 6))\n",
        "plt.bar(crime_counts.index, crime_counts, color='lightgreen')\n",
        "plt.title('Crime Counts of Top 25 Crm Cd Desc')\n",
        "plt.xlabel('Crm Cd Desc (Defines the Crime Code provided)')\n",
        "plt.ylabel('Crime Count')\n",
        "\n",
        "# Rotate the x-axis labels to 90 degrees for better readability\n",
        "plt.xticks(rotation=90)\n",
        "\n",
        "# Show the plot\n",
        "plt.show()"
      ],
      "metadata": {
        "id": "LzULU3qfKcnp"
      },
      "execution_count": null,
      "outputs": []
    },
    {
      "cell_type": "code",
      "source": [
        "# Descent Code: A - Other Asian B - Black C - Chinese D - Cambodian F - Filipino G - Guamanian\n",
        "# H - Hispanic/Latin/Mexican I - American Indian/Alaskan Native J - Japanese\n",
        "# K - Korean L - Laotian O - Other P - Pacific Islander S - Samoan U - Hawaiian\n",
        "# V - Vietnamese W - White X - Unknown Z - Asian Indian\n",
        "\n",
        "# Crimes by Vict Descent\n",
        "crime_counts = df_cleaned['Vict Descent'].value_counts()\n",
        "\n",
        "# Using Matplotlib to create a count plot\n",
        "plt.figure(figsize=(16, 6))\n",
        "plt.bar(crime_counts.index, crime_counts, color='skyblue')\n",
        "plt.title('Crime Count by Vict Descent')\n",
        "plt.xlabel('Vict Descent')\n",
        "plt.ylabel('Crime Count')\n",
        "\n",
        "# Rotating X-axis labels\n",
        "plt.xticks(rotation = 25)\n",
        "\n",
        "plt.show()"
      ],
      "metadata": {
        "id": "DX2wufjg7LVa"
      },
      "execution_count": null,
      "outputs": []
    },
    {
      "cell_type": "code",
      "source": [
        "# Creating subplots of categorical columns\n",
        "sns.set_style(\"darkgrid\")\n",
        "\n",
        "# Identify categorical columns\n",
        "categorical_columns = ['AREA NAME', 'Vict Sex', 'Vict Descent', 'Status Desc']\n",
        "\n",
        "\n",
        "plt.figure(figsize=(18, len(categorical_columns) * 3))\n",
        "for idx, feature in enumerate(categorical_columns, 1):\n",
        "    plt.subplot(len(categorical_columns), 2, idx)  # Adjust the layout as needed\n",
        "\n",
        "    top_categories = df_cleaned[feature].value_counts().head(10).index\n",
        "\n",
        "    # DataFrame to display the top categories\n",
        "    filtered_data = df_cleaned[df_cleaned[feature].isin(top_categories)]\n",
        "\n",
        "    # A countplot for the selected data\n",
        "    sns.countplot(y=filtered_data[feature], order=top_categories)\n",
        "    plt.title(f\"Countplot of {feature}\")\n",
        "\n",
        "\n",
        "# Adjust layout and show plots\n",
        "plt.title('Bar Chart of Categorical Columns')\n",
        "plt.tight_layout()\n",
        "plt.show()"
      ],
      "metadata": {
        "id": "-X5YqGUWCA9z"
      },
      "execution_count": null,
      "outputs": []
    },
    {
      "cell_type": "markdown",
      "source": [],
      "metadata": {
        "id": "tIZrExxHlrY9"
      }
    },
    {
      "cell_type": "code",
      "source": [
        "df_cleaned.head()"
      ],
      "metadata": {
        "id": "8puNWfHbJIfc"
      },
      "execution_count": null,
      "outputs": []
    },
    {
      "cell_type": "code",
      "source": [
        "data_s = df_cleaned[['AREA NAME','LAT','LON','DR_NO','Crm Cd Desc','Vict Sex','Status Desc','Premis Desc']]\n",
        "data_s['AREA NAME'] = data_s['AREA NAME'].str.upper()\n",
        "\n",
        "data_s.head()"
      ],
      "metadata": {
        "id": "H4QXgnkpBOGx"
      },
      "execution_count": null,
      "outputs": []
    },
    {
      "cell_type": "code",
      "source": [
        "data = data_s.copy()\n",
        "\n",
        "data.isnull().sum()\n",
        "data.dropna(inplace=True)"
      ],
      "metadata": {
        "id": "yMESDgg_OpO_"
      },
      "execution_count": null,
      "outputs": []
    },
    {
      "cell_type": "code",
      "source": [
        "data.isnull().sum()"
      ],
      "metadata": {
        "id": "2Fq6P6MXO0Wu"
      },
      "execution_count": null,
      "outputs": []
    },
    {
      "cell_type": "code",
      "source": [
        "data.dropna(thresh=0, inplace=True)"
      ],
      "metadata": {
        "id": "Tq_j2MgQO8L0"
      },
      "execution_count": null,
      "outputs": []
    },
    {
      "cell_type": "code",
      "source": [
        "data.head()"
      ],
      "metadata": {
        "id": "ged7QFiAL6iW"
      },
      "execution_count": null,
      "outputs": []
    },
    {
      "cell_type": "code",
      "source": [
        "data.shape"
      ],
      "metadata": {
        "id": "ydZTW84qDS__"
      },
      "execution_count": null,
      "outputs": []
    },
    {
      "cell_type": "code",
      "source": [
        "data['AREA NAME'].unique()"
      ],
      "metadata": {
        "id": "adhACdqItdsd"
      },
      "execution_count": null,
      "outputs": []
    },
    {
      "cell_type": "code",
      "source": [
        "# Function to rename values\n",
        "def rename_area_name(x):\n",
        "    if x == 'N HOLLYWOOD':\n",
        "        return 'NORTH HOLLYWOOD'\n",
        "    elif x == 'WEST LA':\n",
        "        return 'WEST LOS ANGELES'\n",
        "    else:\n",
        "        return x\n",
        "\n",
        "# Apply the function to the 'AREA NAME' column\n",
        "data['AREA NAME'] = data['AREA NAME'].apply(rename_area_name)"
      ],
      "metadata": {
        "id": "CBiqUtssKCpz"
      },
      "execution_count": null,
      "outputs": []
    },
    {
      "cell_type": "code",
      "source": [
        "# Generate population data based on the count of (lat, lon) pairs\n",
        "data['population_crime_by_lat_lon'] = data.groupby(['AREA NAME','LAT','LON'])['LAT'].transform('count')\n",
        "data.shape\n",
        "# data.groupby(['AREA NAME','LAT','LON'])['LAT'].count()"
      ],
      "metadata": {
        "id": "mqauWLgBQG0Y"
      },
      "execution_count": null,
      "outputs": []
    },
    {
      "cell_type": "code",
      "source": [
        "# Generate population data based on the count of (lat, lon) pairs\n",
        "data['population_crime'] = data.groupby(['AREA NAME'])['AREA NAME'].transform('count')\n",
        "data.shape"
      ],
      "metadata": {
        "id": "kd7Ds0RW8lrR"
      },
      "execution_count": null,
      "outputs": []
    },
    {
      "cell_type": "code",
      "source": [
        "data.head()"
      ],
      "metadata": {
        "id": "JXEYkGrVWlhb"
      },
      "execution_count": null,
      "outputs": []
    },
    {
      "cell_type": "code",
      "source": [
        "data[data['AREA NAME']=='CENTRAL']"
      ],
      "metadata": {
        "id": "I7Lqm-BebVfP"
      },
      "execution_count": null,
      "outputs": []
    },
    {
      "cell_type": "code",
      "source": [
        "data[data['AREA NAME']=='CENTRAL']['population_crime_by_lat_lon'].sum()"
      ],
      "metadata": {
        "id": "bF8bX29GWys7"
      },
      "execution_count": null,
      "outputs": []
    },
    {
      "cell_type": "code",
      "source": [
        "# Top 10 crime populated Area Name (Districts)\n",
        "population_grouped = data.groupby('AREA NAME')['population_crime_by_lat_lon'].sum()\n",
        "population_grouped = population_grouped.to_frame().reset_index().copy()\n",
        "population_grouped.rename(columns={'population_crime_by_lat_lon':'total crime count'}, inplace=True)\n",
        "population_grouped.sort_values(by='total crime count', ascending=False, inplace=True)\n",
        "population_grouped.head(10)"
      ],
      "metadata": {
        "id": "JbmCPSeK1rAl"
      },
      "execution_count": null,
      "outputs": []
    },
    {
      "cell_type": "code",
      "source": [
        "top_10_areaNames = list(population_grouped.head(10)['AREA NAME'].unique())\n",
        "top_10_areaNames"
      ],
      "metadata": {
        "id": "J5BP3u2gCLxC"
      },
      "execution_count": null,
      "outputs": []
    },
    {
      "cell_type": "code",
      "source": [
        "top_10_crimes_df = data[data['AREA NAME'].isin(top_10_areaNames)]\n",
        "top_10_crimes_df.shape"
      ],
      "metadata": {
        "id": "Ok9zdbrECLDr"
      },
      "execution_count": null,
      "outputs": []
    },
    {
      "cell_type": "code",
      "source": [
        "top_10_crimes_df.head()"
      ],
      "metadata": {
        "id": "f8wHjQI5mpzB"
      },
      "execution_count": null,
      "outputs": []
    },
    {
      "cell_type": "code",
      "source": [
        "# Load the geoJson file\n",
        "station_boundaries = gpd.read_file(\"/content/Station_Boundaries.geojson\")\n",
        "print(station_boundaries.shape)\n",
        "\n",
        "# Load the population data\n",
        "population_data = population_grouped\n",
        "print(population_data.shape)\n",
        "\n",
        "def extract_between_lapd_division(text):\n",
        "    pattern = r'LAPD\\s+(.*?)\\s+Division'\n",
        "    match = re.search(pattern, text)\n",
        "    if match:\n",
        "        return match.group(1)\n",
        "    else:\n",
        "        return None\n",
        "\n",
        "# Apply the function to the 'Description' column\n",
        "station_boundaries = station_boundaries[station_boundaries['S_TYPE']=='LAPD'].reset_index(drop=True)\n",
        "station_boundaries['AREA NAME_Extracted'] = station_boundaries['OMEGA_LABEL'].apply(extract_between_lapd_division)\n",
        "station_boundaries['AREA NAME_Extracted'] = station_boundaries['AREA NAME_Extracted'].apply(lambda x : x.upper())\n",
        "print(station_boundaries.shape)"
      ],
      "metadata": {
        "id": "l9vnBh4POOau"
      },
      "execution_count": null,
      "outputs": []
    },
    {
      "cell_type": "code",
      "source": [
        "# Merge the population data with the shapefile\n",
        "merged = pd.merge(top_10_crimes_df,station_boundaries, left_on='AREA NAME', right_on='AREA NAME_Extracted',how='left')\n",
        "print(merged.shape)"
      ],
      "metadata": {
        "id": "_fk1HtNESIzA"
      },
      "execution_count": null,
      "outputs": []
    },
    {
      "cell_type": "code",
      "source": [
        "merged.head()"
      ],
      "metadata": {
        "id": "0m6pzdpLiLk8"
      },
      "execution_count": null,
      "outputs": []
    },
    {
      "cell_type": "code",
      "source": [
        "merged.nunique()"
      ],
      "metadata": {
        "id": "PG4AEWj-9OKn"
      },
      "execution_count": null,
      "outputs": []
    },
    {
      "cell_type": "code",
      "source": [
        "merged"
      ],
      "metadata": {
        "id": "WhrTJ9bOnbf0"
      },
      "execution_count": null,
      "outputs": []
    },
    {
      "cell_type": "code",
      "source": [
        "lapd_data = merged[['AREA NAME','DR_NO','LAT','LON','population_crime_by_lat_lon','population_crime','Crm Cd Desc','Vict Sex','AREA NAME_Extracted','geometry']]\n",
        "lapd_data"
      ],
      "metadata": {
        "id": "Wnbqg8T6-hp3"
      },
      "execution_count": null,
      "outputs": []
    },
    {
      "cell_type": "code",
      "source": [
        "lapd_data = lapd_data.drop_duplicates(subset=['DR_NO']).copy()\n",
        "lapd_data.shape"
      ],
      "metadata": {
        "id": "8smDg1mpBvst"
      },
      "execution_count": null,
      "outputs": []
    },
    {
      "cell_type": "code",
      "source": [
        "lapd_data.reset_index(drop=True, inplace=True)"
      ],
      "metadata": {
        "id": "w9a07m9YCwT1"
      },
      "execution_count": null,
      "outputs": []
    },
    {
      "cell_type": "code",
      "source": [
        "lapd_data"
      ],
      "metadata": {
        "id": "MVU3_EScD26r"
      },
      "execution_count": null,
      "outputs": []
    },
    {
      "cell_type": "code",
      "source": [
        "lapd_data.info()"
      ],
      "metadata": {
        "id": "UUZoqtN5ACeJ"
      },
      "execution_count": null,
      "outputs": []
    },
    {
      "cell_type": "code",
      "source": [
        "print(lapd_data.isnull().sum())\n"
      ],
      "metadata": {
        "id": "ZUV7iZ-bCw-n"
      },
      "execution_count": null,
      "outputs": []
    },
    {
      "cell_type": "code",
      "source": [
        "# Filter rows that contain any NaN values\n",
        "rows_with_nan = lapd_data[lapd_data.isnull().any(axis=1)]\n",
        "\n",
        "# Display the rows with NaN values\n",
        "rows_with_nan"
      ],
      "metadata": {
        "id": "hvjLYBWjC26J"
      },
      "execution_count": null,
      "outputs": []
    },
    {
      "cell_type": "code",
      "source": [
        "rows_with_nan.nunique()"
      ],
      "metadata": {
        "id": "cAhJ8MjeD3E7"
      },
      "execution_count": null,
      "outputs": []
    },
    {
      "cell_type": "code",
      "source": [
        "import geopandas as gpd\n",
        "import matplotlib.pyplot as plt\n",
        "import folium\n",
        "from folium import plugins"
      ],
      "metadata": {
        "id": "kVLvcriDYdhQ"
      },
      "execution_count": null,
      "outputs": []
    },
    {
      "cell_type": "code",
      "source": [
        "geo_data_df = lapd_data[['AREA NAME_Extracted','geometry']].drop_duplicates().reset_index(drop=True)"
      ],
      "metadata": {
        "id": "IDO65t8UIrjM"
      },
      "execution_count": null,
      "outputs": []
    },
    {
      "cell_type": "code",
      "source": [
        "lapd_gdf = gpd.GeoDataFrame(lapd_data, geometry='geometry')\n",
        "lapd_gdf.head()"
      ],
      "metadata": {
        "id": "ZR9zm9CfWNZS"
      },
      "execution_count": null,
      "outputs": []
    },
    {
      "cell_type": "markdown",
      "source": [],
      "metadata": {
        "id": "q-d3xUtsWNx9"
      }
    },
    {
      "cell_type": "code",
      "source": [
        "# Using Seaborn to create a heatmap\n",
        "plt.figure(figsize=(15, 10))\n",
        "\n",
        "\n",
        "df_cleaned['DR_NO'] = pd.to_datetime(df_cleaned['DR_NO'])\n",
        "# Drop the original date column or any non-numeric columns before correlation calculation\n",
        "numeric_df = df_cleaned.select_dtypes(include=[np.number])\n",
        "\n",
        "\n",
        "sns.heatmap(numeric_df.corr(), annot=True, fmt='.2f', cmap='Pastel2', linewidths=2)\n",
        "plt.title('Correlation Heatmap')\n",
        "plt.show()"
      ],
      "metadata": {
        "id": "xYlitM3N9Qd8"
      },
      "execution_count": null,
      "outputs": []
    },
    {
      "cell_type": "code",
      "source": [],
      "metadata": {
        "id": "GanDRPF21hib"
      },
      "execution_count": null,
      "outputs": []
    },
    {
      "cell_type": "code",
      "source": [
        "# Plot the choropleth map\n",
        "fig, ax = plt.subplots(1, 1, figsize=(15, 10))\n",
        "lapd_gdf.plot(column='population_crime', cmap='OrRd', linewidth=0.8, ax=ax, edgecolor='0.8', legend=True)\n",
        "\n",
        "# Label areas\n",
        "labeled_areas = set()\n",
        "for idx, row in lapd_gdf.iterrows():\n",
        "    area_name = row['AREA NAME']\n",
        "    if area_name not in labeled_areas:\n",
        "        centroid = row.geometry.centroid\n",
        "        ax.annotate(area_name, (centroid.x, centroid.y), ha='center', fontsize=8, color='black', bbox=dict(facecolor='white', alpha=0.5))\n",
        "        labeled_areas.add(area_name)\n",
        "\n",
        "ax.set_title('Population Choropleth Map')\n",
        "ax.set_axis_off()\n",
        "plt.show()\n",
        "\n",
        "# Create a base map\n",
        "m = folium.Map(location=[34.05, -118.25], tiles=\"Cartodb dark_matter\", zoom_start=10)\n",
        "\n",
        "# Add heatmap\n",
        "heat_data = [[geom.y, geom.x] for geom in lapd_gdf.geometry.centroid]\n",
        "plugins.HeatMap(heat_data).add_to(m)\n",
        "\n",
        "# Add markers\n",
        "for idx, row in lapd_gdf.iterrows():\n",
        "    folium.Marker(\n",
        "        [row.geometry.centroid.y, row.geometry.centroid.x],\n",
        "        popup=f'Area Name: {row[\"AREA NAME\"]} <br> Population: {row[\"population_crime\"]}'\n",
        "    ).add_to(m)\n",
        "\n",
        "m.save('LA_population_map.html')  # Save to HTML file\n"
      ],
      "metadata": {
        "id": "MXj_mc_D1iwn"
      },
      "execution_count": null,
      "outputs": []
    },
    {
      "cell_type": "code",
      "source": [
        "lapd_gdf['centroid'] = lapd_gdf.geometry.apply(lambda x: x.centroid)"
      ],
      "metadata": {
        "id": "yGSZ_gthoXmD"
      },
      "execution_count": null,
      "outputs": []
    },
    {
      "cell_type": "code",
      "source": [
        "lapd_gdf.geometry.type"
      ],
      "metadata": {
        "id": "JYBeDYSsY_-n"
      },
      "execution_count": null,
      "outputs": []
    },
    {
      "cell_type": "code",
      "source": [
        "import folium\n",
        "from folium import plugins\n",
        "import geopandas as gpd\n",
        "\n",
        "# Load your GeoDataFrame\n",
        "# Calculate centroids of the polygons\n",
        "lapd_gdf['centroid'] = lapd_gdf.geometry.centroid\n",
        "\n",
        "# Create a base map\n",
        "map = folium.Map(location=[34.05, -118.25], tiles=\"Cartodb dark_matter\", zoom_start=10)  # Centered on Los Angeles\n",
        "\n",
        "# Prepare heat data using the centroids\n",
        "heat_data = [[point.y, point.x] for point in lapd_gdf['centroid']]\n",
        "\n",
        "# Add heatmap to the base map\n",
        "plugins.HeatMap(heat_data).add_to(map)\n",
        "\n",
        "# Display the map\n",
        "map"
      ],
      "metadata": {
        "id": "pJVvtaHbYDF4"
      },
      "execution_count": null,
      "outputs": []
    },
    {
      "cell_type": "code",
      "source": [
        "# Function to create a Folium heat map for a given area\n",
        "def create_heatmap(area_data, area_name):\n",
        "    # Create a base map\n",
        "    map_ = folium.Map(location=[34.05, -118.25], tiles=\"Cartodb dark_matter\", zoom_start=10)  # Centered on Los Angeles\n",
        "\n",
        "    # Prepare heat data\n",
        "    heat_data = [[row['LAT'], row['LON']] for index, row in area_data.iterrows()]\n",
        "\n",
        "    # Add heatmap to the base map\n",
        "    plugins.HeatMap(heat_data).add_to(map_)\n",
        "\n",
        "    return map_\n",
        "\n",
        "# Create and display heat maps for the first 10 unique area names\n",
        "unique_areas = lapd_data['AREA NAME'].unique()[:10]\n",
        "\n",
        "for area in unique_areas:\n",
        "    area_data = lapd_data[lapd_data['AREA NAME'] == area]\n",
        "    map_ = create_heatmap(area_data, area)\n",
        "    display(map_)"
      ],
      "metadata": {
        "id": "BUeJfwrB0Ju2"
      },
      "execution_count": null,
      "outputs": []
    },
    {
      "cell_type": "code",
      "source": [
        "# Function to create a Folium heat map for a given area\n",
        "def create_heatmap(area_data, area_name):\n",
        "    # Create a base map\n",
        "    map_ = folium.Map(location=[34.05, -118.25], tiles=\"Cartodb dark_matter\", zoom_start=10)  # Centered on Los Angeles\n",
        "\n",
        "    # Prepare heat data\n",
        "    heat_data = [[row['LAT'], row['LON']] for index, row in area_data.iterrows()]\n",
        "\n",
        "    # Add heatmap to the base map\n",
        "    plugins.HeatMap(heat_data).add_to(map_)\n",
        "\n",
        "    # Save the map to an HTML file\n",
        "    file_name = f\"{area_name.replace(' ', '_')}_heatmap.html\"\n",
        "    map_.save(file_name)\n",
        "    return file_name\n",
        "\n",
        "# Create heat maps for the first 10 unique area names\n",
        "unique_areas = lapd_data['AREA NAME'].unique()[:10]\n",
        "html_files = []\n",
        "for area in unique_areas:\n",
        "    area_data = lapd_data[lapd_data['AREA NAME'] == area]\n",
        "    html_file = create_heatmap(area_data, area)\n",
        "    html_files.append(html_file)\n",
        "\n",
        "# Embed the generated heat maps into a single HTML file\n",
        "html_content = \"\"\"\n",
        "<!DOCTYPE html>\n",
        "<html>\n",
        "<head>\n",
        "    <title>Folium Heatmaps</title>\n",
        "    <style>\n",
        "        .map-container {\n",
        "            display: flex;\n",
        "            flex-wrap: wrap;\n",
        "        }\n",
        "        .map {\n",
        "            width: 45%;\n",
        "            height: 400px;\n",
        "            margin: 10px;\n",
        "        }\n",
        "    </style>\n",
        "</head>\n",
        "<body>\n",
        "    <h1>Folium Heatmaps of Los Angeles Crime Data</h1>\n",
        "    <div class=\"map-container\">\n",
        "\"\"\"\n",
        "\n",
        "for html_file in html_files:\n",
        "    html_content += f'<iframe src=\"{html_file}\" class=\"map\"></iframe>'\n",
        "\n",
        "html_content += \"\"\"\n",
        "    </div>\n",
        "</body>\n",
        "</html>\n",
        "\"\"\"\n",
        "\n",
        "# Save the combined HTML file\n",
        "combined_file_path = \"/content/combined_heatmaps.html\"\n",
        "with open(combined_file_path, \"w\") as file:\n",
        "    file.write(html_content)\n",
        "\n",
        "# Display the path to the combined HTML file\n",
        "combined_file_path"
      ],
      "metadata": {
        "id": "5VcNWvbe1kWg"
      },
      "execution_count": null,
      "outputs": []
    },
    {
      "cell_type": "code",
      "source": [
        "lapd_data.groupby"
      ],
      "metadata": {
        "id": "w2HUNiYvFRTs"
      },
      "execution_count": null,
      "outputs": []
    },
    {
      "cell_type": "code",
      "source": [
        "\n",
        "\n",
        "# Function to create a Folium heat map for a given area\n",
        "def create_heatmap(area_data, area_name):\n",
        "    # Create a base map\n",
        "    map_ = folium.Map(location=[34.05, -118.25], tiles=\"Cartodb dark_matter\", zoom_start=10)  # Centered on Los Angeles\n",
        "\n",
        "    # Prepare heat data\n",
        "    heat_data = [[row['LAT'], row['LON']] for index, row in area_data.iterrows()]\n",
        "\n",
        "    # Add heatmap to the base map\n",
        "    plugins.HeatMap(heat_data).add_to(map_)\n",
        "\n",
        "    # Add title as a marker\n",
        "    folium.Marker(\n",
        "        location=[34.05, -118.25],  # Centered on Los Angeles\n",
        "        icon=folium.DivIcon(html=f'<div style=\"font-size: 20pt\">{area_name}</div>')\n",
        "    ).add_to(map_)\n",
        "\n",
        "    # Save the map to an HTML file\n",
        "    file_name = f\"{area_name.replace(' ', '_')}_heatmap.html\"\n",
        "    map_.save(file_name)\n",
        "    return file_name\n",
        "\n",
        "# Create heat maps for the first 10 unique area names\n",
        "unique_areas = lapd_data['AREA NAME'].unique()[:10]\n",
        "html_files = []\n",
        "for area in unique_areas:\n",
        "    area_data = lapd_data[lapd_data['AREA NAME'] == area]\n",
        "    html_file = create_heatmap(area_data, area)\n",
        "    html_files.append(html_file)\n",
        "\n",
        "# Embed the generated heat maps into a single HTML file\n",
        "html_content = \"\"\"\n",
        "<!DOCTYPE html>\n",
        "<html>\n",
        "<head>\n",
        "    <title>Folium Heatmaps</title>\n",
        "    <style>\n",
        "        .map-container {\n",
        "            display: flex;\n",
        "            flex-wrap: wrap;\n",
        "        }\n",
        "        .map {\n",
        "            width: 45%;\n",
        "            height: 400px;\n",
        "            margin: 10px;\n",
        "        }\n",
        "    </style>\n",
        "</head>\n",
        "<body>\n",
        "    <h1>Folium Heatmaps of Los Angeles Crime Data</h1>\n",
        "    <div class=\"map-container\">\n",
        "\"\"\"\n",
        "\n",
        "for html_file in html_files:\n",
        "    html_content += f'<iframe src=\"{html_file}\" class=\"map\"></iframe>'\n",
        "\n",
        "html_content += \"\"\"\n",
        "    </div>\n",
        "</body>\n",
        "</html>\n",
        "\"\"\"\n",
        "\n",
        "# Save the combined HTML file\n",
        "combined_file_path = \"/content/combined_heatmaps.html\"\n",
        "with open(combined_file_path, \"w\") as file:\n",
        "    file.write(html_content)\n",
        "\n",
        "# Display the path to the combined HTML file\n",
        "combined_file_path"
      ],
      "metadata": {
        "id": "Gtdteo4EC_sh"
      },
      "execution_count": null,
      "outputs": []
    },
    {
      "cell_type": "code",
      "source": [
        "# Function to create a Folium heat map for a given area\n",
        "def create_heatmap(area_data, area_name):\n",
        "    # Create a base map\n",
        "    map_ = folium.Map(location=[34.05, -118.25], tiles=\"Cartodb dark_matter\", zoom_start=10)  # Centered on Los Angeles\n",
        "\n",
        "    # Prepare heat data\n",
        "    heat_data = [[row['LAT'], row['LON']] for index, row in area_data.iterrows()]\n",
        "\n",
        "    # Add heatmap to the base map\n",
        "    plugins.HeatMap(heat_data).add_to(map_)\n",
        "\n",
        "    # Add markers for each crime\n",
        "    for index, row in area_data.iterrows():\n",
        "        popup_text = f\"Crime: {row['Crm Cd Desc']}<br>Latitude: {row['LAT']}<br>Longitude: {row['LON']}\"\n",
        "        folium.Marker(\n",
        "            location=[row['LAT'], row['LON']],\n",
        "            popup=popup_text\n",
        "        ).add_to(map_)\n",
        "\n",
        "    # Add title as a marker\n",
        "    folium.Marker(\n",
        "        location=[34.05, -118.25],  # Centered on Los Angeles\n",
        "        icon=folium.DivIcon(html=f'<div style=\"font-size: 20pt\">{area_name}</div>')\n",
        "    ).add_to(map_)\n",
        "\n",
        "    # Save the map to an HTML file\n",
        "    file_name = f\"{area_name.replace(' ', '_')}_heatmap.html\"\n",
        "    map_.save(file_name)\n",
        "    return file_name\n",
        "\n",
        "# Create heat maps for the first 10 unique area names\n",
        "unique_areas = lapd_data['AREA NAME'].unique()[:10]\n",
        "html_files = []\n",
        "for area in unique_areas:\n",
        "    area_data = lapd_data[lapd_data['AREA NAME'] == area]\n",
        "    html_file = create_heatmap(area_data, area)\n",
        "    html_files.append(html_file)\n",
        "\n",
        "# Embed the generated heat maps into a single HTML file\n",
        "html_content = \"\"\"\n",
        "<!DOCTYPE html>\n",
        "<html>\n",
        "<head>\n",
        "    <title>Folium Heatmaps</title>\n",
        "    <style>\n",
        "        .map-container {\n",
        "            display: flex;\n",
        "            flex-wrap: wrap;\n",
        "        }\n",
        "        .map {\n",
        "            width: 45%;\n",
        "            height: 400px;\n",
        "            margin: 10px;\n",
        "        }\n",
        "    </style>\n",
        "</head>\n",
        "<body>\n",
        "    <h1>Folium Heatmaps of Los Angeles Crime Data</h1>\n",
        "    <div class=\"map-container\">\n",
        "\"\"\"\n",
        "\n",
        "for html_file in html_files:\n",
        "    html_content += f'<iframe src=\"{html_file}\" class=\"map\"></iframe>'\n",
        "\n",
        "html_content += \"\"\"\n",
        "    </div>\n",
        "</body>\n",
        "</html>\n",
        "\"\"\"\n",
        "\n",
        "# Save the combined HTML file\n",
        "combined_file_path = \"/content/combined_heatmaps.html\"\n",
        "with open(combined_file_path, \"w\") as file:\n",
        "    file.write(html_content)\n",
        "\n",
        "# Display the path to the combined HTML file\n",
        "combined_file_path"
      ],
      "metadata": {
        "id": "Umu_hnGyGgqp"
      },
      "execution_count": null,
      "outputs": []
    },
    {
      "cell_type": "code",
      "source": [
        "# Function to create a Folium heat map for a given area\n",
        "def create_heatmap(area_data, area_name):\n",
        "    # Create a base map\n",
        "    map_ = folium.Map(location=[34.05, -118.25], tiles=\"Cartodb dark_matter\", zoom_start=10)  # Centered on Los Angeles\n",
        "\n",
        "    # Prepare heat data\n",
        "    heat_data = [[row['LAT'], row['LON']] for index, row in area_data.iterrows()]\n",
        "\n",
        "    # Add heatmap to the base map\n",
        "    plugins.HeatMap(heat_data).add_to(map_)\n",
        "\n",
        "    # Add markers for each crime\n",
        "    for index, row in area_data.iterrows():\n",
        "        popup_text = f\"Crime: {row['Crm Cd Desc']}<br>Latitude: {row['LAT']}<br>Longitude: {row['LON']}<br>Population Crime: {row['population_crime_by_lat_lon']}\"\n",
        "        folium.Marker(\n",
        "            location=[row['LAT'], row['LON']],\n",
        "            popup=popup_text\n",
        "        ).add_to(map_)\n",
        "\n",
        "    # Add title as a marker\n",
        "    folium.Marker(\n",
        "        location=[34.05, -118.25],  # Centered on Los Angeles\n",
        "        icon=folium.DivIcon(html=f'<div style=\"font-size: 20pt\">{area_name}</div>')\n",
        "    ).add_to(map_)\n",
        "\n",
        "    # Save the map to an HTML file\n",
        "    file_name = f\"{area_name.replace(' ', '_')}_crime_heatmap.html\"\n",
        "    map_.save(file_name)\n",
        "    return file_name\n",
        "\n",
        "# Create heat maps for the first 10 unique area names\n",
        "unique_areas = lapd_data['AREA NAME'].unique()[:10]\n",
        "html_files = []\n",
        "for area in unique_areas:\n",
        "    area_data = lapd_data[lapd_data['AREA NAME'] == area]\n",
        "    html_file = create_heatmap(area_data, area)\n",
        "    html_files.append(html_file)\n",
        "\n",
        "# Embed the generated heat maps into a single HTML file\n",
        "html_content = \"\"\"\n",
        "<!DOCTYPE html>\n",
        "<html>\n",
        "<head>\n",
        "    <title>Folium Heatmaps</title>\n",
        "    <style>\n",
        "        .map-container {\n",
        "            display: flex;\n",
        "            flex-wrap: wrap;\n",
        "        }\n",
        "        .map {\n",
        "            width: 45%;\n",
        "            height: 400px;\n",
        "            margin: 10px;\n",
        "        }\n",
        "    </style>\n",
        "</head>\n",
        "<body>\n",
        "    <h1>Folium Heatmaps of Los Angeles Crime Data</h1>\n",
        "    <div class=\"map-container\">\n",
        "\"\"\"\n",
        "\n",
        "for html_file in html_files:\n",
        "    html_content += f'<iframe src=\"{html_file}\" class=\"map\"></iframe>'\n",
        "\n",
        "html_content += \"\"\"\n",
        "    </div>\n",
        "</body>\n",
        "</html>\n",
        "\"\"\"\n",
        "\n",
        "# Save the combined HTML file\n",
        "combined_file_path = \"/content/la_combined_heatmaps.html\"\n",
        "with open(combined_file_path, \"w\") as file:\n",
        "    file.write(html_content)\n",
        "\n",
        "# Display the path to the combined HTML file\n",
        "combined_file_path"
      ],
      "metadata": {
        "id": "0ibusXURHImh"
      },
      "execution_count": null,
      "outputs": []
    },
    {
      "cell_type": "code",
      "source": [
        "# Function to get the top 10 crimes in each area\n",
        "def get_top_10_crimes_by_area(data):\n",
        "    top_crimes = data.groupby(['AREA NAME', 'Crm Cd Desc']).size().reset_index(name='counts')\n",
        "    top_crimes = top_crimes.groupby('AREA NAME').apply(lambda x: x.nlargest(1, 'counts')).reset_index(drop=True)\n",
        "    top_crimes = top_crimes[['AREA NAME', 'Crm Cd Desc']]\n",
        "    return pd.merge(data, top_crimes, on=['AREA NAME', 'Crm Cd Desc'], how='inner')\n",
        "\n",
        "# Get the top 10 crimes in each area\n",
        "filtered_data = get_top_10_crimes_by_area(lapd_data)\n",
        "\n",
        "# Function to create a Folium heat map for a given area\n",
        "def create_heatmap(area_data, area_name):\n",
        "    # Create a base map\n",
        "    map_ = folium.Map(location=[34.05, -118.25], tiles=\"Cartodb dark_matter\", zoom_start=10)  # Centered on Los Angeles\n",
        "\n",
        "    # Prepare heat data\n",
        "    heat_data = [[row['LAT'], row['LON']] for index, row in area_data.iterrows()]\n",
        "\n",
        "    # Add heatmap to the base map\n",
        "    plugins.HeatMap(heat_data).add_to(map_)\n",
        "\n",
        "       # Add markers for each crime\n",
        "    for index, row in area_data.iterrows():\n",
        "        popup_text = f\"Crime: {row['Crm Cd Desc']}<br>Latitude: {row['LAT']}<br>Longitude: {row['LON']}<br>Population Crime: {row['population_crime_by_lat_lon']}\"\n",
        "        folium.Marker(\n",
        "            location=[row['LAT'], row['LON']],\n",
        "            popup=popup_text\n",
        "        ).add_to(map_)\n",
        "\n",
        "    # Add title as a marker\n",
        "    folium.Marker(\n",
        "        location=[34.05, -118.25],  # Centered on Los Angeles\n",
        "        icon=folium.DivIcon(html=f'<div style=\"font-size: 20pt\">{area_name}</div>')\n",
        "    ).add_to(map_)\n",
        "\n",
        "    # Save the map to an HTML file\n",
        "    file_name = f\"{area_name.replace(' ', '_')}_heatmap_TOP1.html\"\n",
        "    map_.save(file_name)\n",
        "    return file_name\n",
        "\n",
        "# Create heat maps for the first 10 unique area names\n",
        "unique_areas = filtered_data['AREA NAME'].unique()[:10]\n",
        "html_files = []\n",
        "for area in unique_areas:\n",
        "    area_data = filtered_data[filtered_data['AREA NAME'] == area]\n",
        "    html_file = create_heatmap(area_data, area)\n",
        "    html_files.append(html_file)\n",
        "\n",
        "# Embed the generated heat maps into a single HTML file\n",
        "html_content = \"\"\"\n",
        "<!DOCTYPE html>\n",
        "<html>\n",
        "<head>\n",
        "    <title>Folium Heatmaps</title>\n",
        "    <style>\n",
        "        .map-container {\n",
        "            display: flex;\n",
        "            flex-wrap: wrap;\n",
        "        }\n",
        "        .map {\n",
        "            width: 45%;\n",
        "            height: 400px;\n",
        "            margin: 10px;\n",
        "        }\n",
        "    </style>\n",
        "</head>\n",
        "<body>\n",
        "    <h1>Folium Heatmaps of Los Angeles Crime Data</h1>\n",
        "    <div class=\"map-container\">\n",
        "\"\"\"\n",
        "\n",
        "for html_file in html_files:\n",
        "    html_content += f'<iframe src=\"{html_file}\" class=\"map\"></iframe>'\n",
        "\n",
        "html_content += \"\"\"\n",
        "    </div>\n",
        "</body>\n",
        "</html>\n",
        "\"\"\"\n",
        "\n",
        "# Save the combined HTML file\n",
        "combined_file_path = \"/content/combined_heatmaps_TOP1.html\"\n",
        "with open(combined_file_path, \"w\") as file:\n",
        "    file.write(html_content)\n",
        "\n",
        "# Display the path to the combined HTML file\n",
        "combined_file_path"
      ],
      "metadata": {
        "id": "jWDEbxBOKFPb"
      },
      "execution_count": null,
      "outputs": []
    },
    {
      "cell_type": "code",
      "source": [
        "filtered_data[filtered_data['AREA NAME'] =='CENTRAL'].groupby('Crm Cd Desc').size()"
      ],
      "metadata": {
        "id": "qmVeNs_4NHfO"
      },
      "execution_count": null,
      "outputs": []
    }
  ]
}